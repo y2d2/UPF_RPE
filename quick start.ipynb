{
 "cells": [
  {
   "metadata": {},
   "cell_type": "markdown",
   "source": [
    "# UPF \n",
    "\n",
    "\n",
    "## Quick Start"
   ],
   "id": "23cf41d621d745d0"
  },
  {
   "metadata": {
    "ExecuteTime": {
     "end_time": "2024-08-23T06:25:16.601288Z",
     "start_time": "2024-08-23T06:25:16.196459Z"
    }
   },
   "cell_type": "code",
   "source": [
    "import numpy as np\n",
    "from Code.ParticleFilter.ConnectedAgentClass import UPFConnectedAgent\n",
    "\n",
    "\n",
    "\n",
    "\n",
    "upf = UPFConnectedAgent(agent_id =0, x_odom = np.zeros(4))\n",
    "\n",
    "\n",
    "\n"
   ],
   "id": "4c1bb9073fce73c3",
   "outputs": [
    {
     "ename": "TypeError",
     "evalue": "UPFConnectedAgent.__init__() got an unexpected keyword argument 'agent_id'",
     "output_type": "error",
     "traceback": [
      "\u001B[0;31m---------------------------------------------------------------------------\u001B[0m",
      "\u001B[0;31mTypeError\u001B[0m                                 Traceback (most recent call last)",
      "Cell \u001B[0;32mIn[3], line 7\u001B[0m\n\u001B[1;32m      1\u001B[0m \u001B[38;5;28;01mimport\u001B[39;00m \u001B[38;5;21;01mnumpy\u001B[39;00m \u001B[38;5;28;01mas\u001B[39;00m \u001B[38;5;21;01mnp\u001B[39;00m\n\u001B[1;32m      2\u001B[0m \u001B[38;5;28;01mfrom\u001B[39;00m \u001B[38;5;21;01mCode\u001B[39;00m\u001B[38;5;21;01m.\u001B[39;00m\u001B[38;5;21;01mParticleFilter\u001B[39;00m\u001B[38;5;21;01m.\u001B[39;00m\u001B[38;5;21;01mConnectedAgentClass\u001B[39;00m \u001B[38;5;28;01mimport\u001B[39;00m UPFConnectedAgent\n\u001B[0;32m----> 7\u001B[0m upf \u001B[38;5;241m=\u001B[39m \u001B[43mUPFConnectedAgent\u001B[49m\u001B[43m(\u001B[49m\u001B[43magent_id\u001B[49m\u001B[43m \u001B[49m\u001B[38;5;241;43m=\u001B[39;49m\u001B[38;5;241;43m0\u001B[39;49m\u001B[43m,\u001B[49m\u001B[43m \u001B[49m\u001B[43mx_odom\u001B[49m\u001B[43m \u001B[49m\u001B[38;5;241;43m=\u001B[39;49m\u001B[43m \u001B[49m\u001B[43mnp\u001B[49m\u001B[38;5;241;43m.\u001B[39;49m\u001B[43mzeros\u001B[49m\u001B[43m(\u001B[49m\u001B[38;5;241;43m4\u001B[39;49m\u001B[43m)\u001B[49m\u001B[43m)\u001B[49m\n",
      "\u001B[0;31mTypeError\u001B[0m: UPFConnectedAgent.__init__() got an unexpected keyword argument 'agent_id'"
     ]
    }
   ],
   "execution_count": 3
  },
  {
   "metadata": {},
   "cell_type": "markdown",
   "source": "",
   "id": "8c216ccd9f33bf90"
  },
  {
   "metadata": {},
   "cell_type": "markdown",
   "source": "## The Data ",
   "id": "bdc46de0d77dbddc"
  },
  {
   "metadata": {},
   "cell_type": "markdown",
   "source": [
    "### Running simulations\n",
    "\n",
    "\n"
   ],
   "id": "97e5b7e8c9279516"
  },
  {
   "metadata": {},
   "cell_type": "code",
   "outputs": [],
   "execution_count": null,
   "source": "",
   "id": "825b6476058f29cb"
  },
  {
   "metadata": {},
   "cell_type": "markdown",
   "source": "### Running analysis",
   "id": "5d1bbce1856a1e89"
  },
  {
   "metadata": {},
   "cell_type": "code",
   "outputs": [],
   "execution_count": null,
   "source": "",
   "id": "aa68be0fa90542a3"
  }
 ],
 "metadata": {
  "kernelspec": {
   "display_name": "Python 3",
   "language": "python",
   "name": "python3"
  },
  "language_info": {
   "codemirror_mode": {
    "name": "ipython",
    "version": 2
   },
   "file_extension": ".py",
   "mimetype": "text/x-python",
   "name": "python",
   "nbconvert_exporter": "python",
   "pygments_lexer": "ipython2",
   "version": "2.7.6"
  }
 },
 "nbformat": 4,
 "nbformat_minor": 5
}
